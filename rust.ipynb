{
 "cells": [
  {
   "cell_type": "code",
   "execution_count": 2,
   "metadata": {
    "vscode": {
     "languageId": "rust"
    }
   },
   "outputs": [],
   "source": [
    ":dep polars ={version=\"0.24.3\", features = [\"lazy\", \"csv-file\", \"ipc\"]}"
   ]
  },
  {
   "cell_type": "code",
   "execution_count": 42,
   "metadata": {
    "vscode": {
     "languageId": "rust"
    }
   },
   "outputs": [],
   "source": [
    "use polars::prelude::*;"
   ]
  },
  {
   "cell_type": "code",
   "execution_count": null,
   "metadata": {
    "vscode": {
     "languageId": "rust"
    }
   },
   "outputs": [],
   "source": [
    "let df = LazyCsvReader::new(\"./ordf.csv\")\n",
    ".finish()?\n",
    ".select([\n",
    "    // select all columns\n",
    "    all(),\n",
    "    // and do some aggregations\n",
    "    cols([\"fats_g\", \"sugars_g\"]).sum().suffix(\"_summed\"),\n",
    "])\n",
    ".collect()?;"
   ]
  },
  {
   "cell_type": "code",
   "execution_count": 48,
   "metadata": {
    "vscode": {
     "languageId": "rust"
    }
   },
   "outputs": [
    {
     "data": {
      "text/plain": [
       "shape: (27, 6)\n",
       "┌────────────┬──────────┬────────┬──────────┬───────────────┬─────────────────┐\n",
       "│ category   ┆ calories ┆ fats_g ┆ sugars_g ┆ fats_g_summed ┆ sugars_g_summed │\n",
       "│ ---        ┆ ---      ┆ ---    ┆ ---      ┆ ---           ┆ ---             │\n",
       "│ str        ┆ i64      ┆ f64    ┆ i64      ┆ f64           ┆ i64             │\n",
       "╞════════════╪══════════╪════════╪══════════╪═══════════════╪═════════════════╡\n",
       "│ vegetables ┆ 45       ┆ 0.5    ┆ 2        ┆ 86.5          ┆ 93              │\n",
       "├╌╌╌╌╌╌╌╌╌╌╌╌┼╌╌╌╌╌╌╌╌╌╌┼╌╌╌╌╌╌╌╌┼╌╌╌╌╌╌╌╌╌╌┼╌╌╌╌╌╌╌╌╌╌╌╌╌╌╌┼╌╌╌╌╌╌╌╌╌╌╌╌╌╌╌╌╌┤\n",
       "│ seafood    ┆ 150      ┆ 5.0    ┆ 0        ┆ 86.5          ┆ 93              │\n",
       "├╌╌╌╌╌╌╌╌╌╌╌╌┼╌╌╌╌╌╌╌╌╌╌┼╌╌╌╌╌╌╌╌┼╌╌╌╌╌╌╌╌╌╌┼╌╌╌╌╌╌╌╌╌╌╌╌╌╌╌┼╌╌╌╌╌╌╌╌╌╌╌╌╌╌╌╌╌┤\n",
       "│ meat       ┆ 100      ┆ 5.0    ┆ 0        ┆ 86.5          ┆ 93              │\n",
       "├╌╌╌╌╌╌╌╌╌╌╌╌┼╌╌╌╌╌╌╌╌╌╌┼╌╌╌╌╌╌╌╌┼╌╌╌╌╌╌╌╌╌╌┼╌╌╌╌╌╌╌╌╌╌╌╌╌╌╌┼╌╌╌╌╌╌╌╌╌╌╌╌╌╌╌╌╌┤\n",
       "│ fruit      ┆ 60       ┆ 0.0    ┆ 11       ┆ 86.5          ┆ 93              │\n",
       "├╌╌╌╌╌╌╌╌╌╌╌╌┼╌╌╌╌╌╌╌╌╌╌┼╌╌╌╌╌╌╌╌┼╌╌╌╌╌╌╌╌╌╌┼╌╌╌╌╌╌╌╌╌╌╌╌╌╌╌┼╌╌╌╌╌╌╌╌╌╌╌╌╌╌╌╌╌┤\n",
       "│ ...        ┆ ...      ┆ ...    ┆ ...      ┆ ...           ┆ ...             │\n",
       "├╌╌╌╌╌╌╌╌╌╌╌╌┼╌╌╌╌╌╌╌╌╌╌┼╌╌╌╌╌╌╌╌┼╌╌╌╌╌╌╌╌╌╌┼╌╌╌╌╌╌╌╌╌╌╌╌╌╌╌┼╌╌╌╌╌╌╌╌╌╌╌╌╌╌╌╌╌┤\n",
       "│ fruit      ┆ 130      ┆ 0.0    ┆ 25       ┆ 86.5          ┆ 93              │\n",
       "├╌╌╌╌╌╌╌╌╌╌╌╌┼╌╌╌╌╌╌╌╌╌╌┼╌╌╌╌╌╌╌╌┼╌╌╌╌╌╌╌╌╌╌┼╌╌╌╌╌╌╌╌╌╌╌╌╌╌╌┼╌╌╌╌╌╌╌╌╌╌╌╌╌╌╌╌╌┤\n",
       "│ meat       ┆ 100      ┆ 7.0    ┆ 0        ┆ 86.5          ┆ 93              │\n",
       "├╌╌╌╌╌╌╌╌╌╌╌╌┼╌╌╌╌╌╌╌╌╌╌┼╌╌╌╌╌╌╌╌┼╌╌╌╌╌╌╌╌╌╌┼╌╌╌╌╌╌╌╌╌╌╌╌╌╌╌┼╌╌╌╌╌╌╌╌╌╌╌╌╌╌╌╌╌┤\n",
       "│ vegetables ┆ 30       ┆ 0.0    ┆ 5        ┆ 86.5          ┆ 93              │\n",
       "├╌╌╌╌╌╌╌╌╌╌╌╌┼╌╌╌╌╌╌╌╌╌╌┼╌╌╌╌╌╌╌╌┼╌╌╌╌╌╌╌╌╌╌┼╌╌╌╌╌╌╌╌╌╌╌╌╌╌╌┼╌╌╌╌╌╌╌╌╌╌╌╌╌╌╌╌╌┤\n",
       "│ fruit      ┆ 50       ┆ 0.0    ┆ 11       ┆ 86.5          ┆ 93              │\n",
       "└────────────┴──────────┴────────┴──────────┴───────────────┴─────────────────┘"
      ]
     },
     "execution_count": 48,
     "metadata": {},
     "output_type": "execute_result"
    }
   ],
   "source": [
    "df"
   ]
  }
 ],
 "metadata": {
  "kernelspec": {
   "display_name": "Rust",
   "language": "rust",
   "name": "rust"
  },
  "language_info": {
   "codemirror_mode": "rust",
   "file_extension": ".rs",
   "mimetype": "text/rust",
   "name": "Rust",
   "pygment_lexer": "rust",
   "version": ""
  },
  "orig_nbformat": 4,
  "vscode": {
   "interpreter": {
    "hash": "52631a2024cccaeb8b2430b28af4374ad05292060264a666b1702896c99d9747"
   }
  }
 },
 "nbformat": 4,
 "nbformat_minor": 2
}
